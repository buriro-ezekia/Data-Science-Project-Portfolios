{
  "nbformat": 4,
  "nbformat_minor": 0,
  "metadata": {
    "colab": {
      "provenance": [],
      "authorship_tag": "ABX9TyOd8XYxsFrd70YeK1KuJoQS",
      "include_colab_link": true
    },
    "kernelspec": {
      "name": "python3",
      "display_name": "Python 3"
    },
    "language_info": {
      "name": "python"
    }
  },
  "cells": [
    {
      "cell_type": "markdown",
      "metadata": {
        "id": "view-in-github",
        "colab_type": "text"
      },
      "source": [
        "<a href=\"https://colab.research.google.com/github/buriro-ezekia/Data-Science-Project-Portfolios/blob/main/Buriro_Ezekia_Marketing_Campaign_Analysis.ipynb\" target=\"_parent\"><img src=\"https://colab.research.google.com/assets/colab-badge.svg\" alt=\"Open In Colab\"/></a>"
      ]
    },
    {
      "cell_type": "code",
      "execution_count": 2,
      "metadata": {
        "colab": {
          "base_uri": "https://localhost:8080/"
        },
        "id": "n4FEkrOezks5",
        "outputId": "05e74568-e245-4e5f-ff4f-5c32f0195ea9"
      },
      "outputs": [
        {
          "output_type": "stream",
          "name": "stdout",
          "text": [
            "   OrderID          Region         Country CustID    Customer_Name  \\\n",
            "0  SO45080       Northwest   United States  14657      JOHN THOMAS   \n",
            "1  SO45079       Southwest   United States  29255  KYLE WASHINGTON   \n",
            "2  SO45082       Australia       Australia  11455        ROSS SANZ   \n",
            "3  SO45081          Canada          Canada  26782       SETH LEWIS   \n",
            "4  SO45083  United Kingdom  United Kingdom  14947   ALEJANDRO CHEN   \n",
            "\n",
            "   ProductSKU Product_Category  OrderLineItem  OrderQuantity  ProductCost  \\\n",
            "0  BK-R50B-58           Plants            1.0            1.0     413.1463   \n",
            "1  BK-R93R-48           Plants            1.0            1.0    2171.2942   \n",
            "2  BK-M82B-44           Plants            1.0            1.0    1898.0944   \n",
            "3  BK-R50B-44           Plants            1.0            1.0     413.1463   \n",
            "4  BK-R93R-48           Plants            1.0            1.0    2171.2942   \n",
            "\n",
            "  ProductPrice   OrderDate AcquisitionSource      TransactionID  Fraud  \\\n",
            "0     699.0982  01-01-2020        Meta-ads\\r  I4127227587819694  False   \n",
            "1      3578.27  01-01-2020      Google-ads\\r  E9525730529761877  False   \n",
            "2      3374.99  01-01-2020      Google-ads\\r  Z6376643485803420  False   \n",
            "3     699.0982  01-01-2020      Google-ads\\r  R8609290025411138  False   \n",
            "4      3578.27  02-01-2020        Meta-ads\\r  Y9572700698484288  False   \n",
            "\n",
            "  PaymentMethod  CardType Gender  \n",
            "0    CREDITCARD  DISCOVER      M  \n",
            "1    CREDITCARD        MC      M  \n",
            "2    CREDITCARD      VISA      M  \n",
            "3    CREDITCARD      VISA      M  \n",
            "4    CREDITCARD      VISA      M  \n"
          ]
        },
        {
          "output_type": "stream",
          "name": "stderr",
          "text": [
            "<ipython-input-2-3a85dbec5a6b>:6: DtypeWarning: Columns (3,10) have mixed types. Specify dtype option on import or set low_memory=False.\n",
            "  df = pd.read_csv('/content/Order_Data_meriskill.csv')\n"
          ]
        }
      ],
      "source": [
        "# Read the csv datasets in pandas\n",
        "\n",
        "import pandas as pd\n",
        "\n",
        "# Replace 'your_file.csv' with the actual path to your CSV file in Google Drive or local directory\n",
        "df = pd.read_csv('/content/Order_Data_meriskill.csv')\n",
        "\n",
        "# Print the first 5 rows of the DataFrame\n",
        "print(df.head())\n"
      ]
    },
    {
      "cell_type": "code",
      "source": [
        "df.columns"
      ],
      "metadata": {
        "colab": {
          "base_uri": "https://localhost:8080/"
        },
        "id": "XXWIz_XX0nIj",
        "outputId": "fd980b34-540a-4b97-c2d0-b98e77ee1bbe"
      },
      "execution_count": 3,
      "outputs": [
        {
          "output_type": "execute_result",
          "data": {
            "text/plain": [
              "Index(['OrderID', 'Region', 'Country', 'CustID', 'Customer_Name', 'ProductSKU',\n",
              "       'Product_Category', 'OrderLineItem', 'OrderQuantity', 'ProductCost',\n",
              "       'ProductPrice', 'OrderDate', 'AcquisitionSource', 'TransactionID',\n",
              "       'Fraud', 'PaymentMethod', 'CardType', 'Gender'],\n",
              "      dtype='object')"
            ]
          },
          "metadata": {},
          "execution_count": 3
        }
      ]
    },
    {
      "cell_type": "code",
      "source": [
        "# Handling Missing values\n",
        "\n",
        "df.isnull().sum()\n"
      ],
      "metadata": {
        "colab": {
          "base_uri": "https://localhost:8080/",
          "height": 648
        },
        "id": "ADOdx4_r14wA",
        "outputId": "020001d1-a679-4cdd-9fb3-77d57fd46229"
      },
      "execution_count": 4,
      "outputs": [
        {
          "output_type": "execute_result",
          "data": {
            "text/plain": [
              "OrderID                 0\n",
              "Region                  1\n",
              "Country                 1\n",
              "CustID                  1\n",
              "Customer_Name           4\n",
              "ProductSKU              1\n",
              "Product_Category        1\n",
              "OrderLineItem           1\n",
              "OrderQuantity           1\n",
              "ProductCost             1\n",
              "ProductPrice            1\n",
              "OrderDate               1\n",
              "AcquisitionSource       2\n",
              "TransactionID           1\n",
              "Fraud                 575\n",
              "PaymentMethod           1\n",
              "CardType             4403\n",
              "Gender               5329\n",
              "dtype: int64"
            ],
            "text/html": [
              "<div>\n",
              "<style scoped>\n",
              "    .dataframe tbody tr th:only-of-type {\n",
              "        vertical-align: middle;\n",
              "    }\n",
              "\n",
              "    .dataframe tbody tr th {\n",
              "        vertical-align: top;\n",
              "    }\n",
              "\n",
              "    .dataframe thead th {\n",
              "        text-align: right;\n",
              "    }\n",
              "</style>\n",
              "<table border=\"1\" class=\"dataframe\">\n",
              "  <thead>\n",
              "    <tr style=\"text-align: right;\">\n",
              "      <th></th>\n",
              "      <th>0</th>\n",
              "    </tr>\n",
              "  </thead>\n",
              "  <tbody>\n",
              "    <tr>\n",
              "      <th>OrderID</th>\n",
              "      <td>0</td>\n",
              "    </tr>\n",
              "    <tr>\n",
              "      <th>Region</th>\n",
              "      <td>1</td>\n",
              "    </tr>\n",
              "    <tr>\n",
              "      <th>Country</th>\n",
              "      <td>1</td>\n",
              "    </tr>\n",
              "    <tr>\n",
              "      <th>CustID</th>\n",
              "      <td>1</td>\n",
              "    </tr>\n",
              "    <tr>\n",
              "      <th>Customer_Name</th>\n",
              "      <td>4</td>\n",
              "    </tr>\n",
              "    <tr>\n",
              "      <th>ProductSKU</th>\n",
              "      <td>1</td>\n",
              "    </tr>\n",
              "    <tr>\n",
              "      <th>Product_Category</th>\n",
              "      <td>1</td>\n",
              "    </tr>\n",
              "    <tr>\n",
              "      <th>OrderLineItem</th>\n",
              "      <td>1</td>\n",
              "    </tr>\n",
              "    <tr>\n",
              "      <th>OrderQuantity</th>\n",
              "      <td>1</td>\n",
              "    </tr>\n",
              "    <tr>\n",
              "      <th>ProductCost</th>\n",
              "      <td>1</td>\n",
              "    </tr>\n",
              "    <tr>\n",
              "      <th>ProductPrice</th>\n",
              "      <td>1</td>\n",
              "    </tr>\n",
              "    <tr>\n",
              "      <th>OrderDate</th>\n",
              "      <td>1</td>\n",
              "    </tr>\n",
              "    <tr>\n",
              "      <th>AcquisitionSource</th>\n",
              "      <td>2</td>\n",
              "    </tr>\n",
              "    <tr>\n",
              "      <th>TransactionID</th>\n",
              "      <td>1</td>\n",
              "    </tr>\n",
              "    <tr>\n",
              "      <th>Fraud</th>\n",
              "      <td>575</td>\n",
              "    </tr>\n",
              "    <tr>\n",
              "      <th>PaymentMethod</th>\n",
              "      <td>1</td>\n",
              "    </tr>\n",
              "    <tr>\n",
              "      <th>CardType</th>\n",
              "      <td>4403</td>\n",
              "    </tr>\n",
              "    <tr>\n",
              "      <th>Gender</th>\n",
              "      <td>5329</td>\n",
              "    </tr>\n",
              "  </tbody>\n",
              "</table>\n",
              "</div><br><label><b>dtype:</b> int64</label>"
            ]
          },
          "metadata": {},
          "execution_count": 4
        }
      ]
    },
    {
      "cell_type": "code",
      "source": [
        "# Remove Duplicates\n",
        "\n",
        "df.drop_duplicates(inplace=True)\n"
      ],
      "metadata": {
        "id": "-aaotwHb2rOa"
      },
      "execution_count": 5,
      "outputs": []
    },
    {
      "cell_type": "code",
      "source": [
        "# Fix Inconsistent Data\n",
        "df['OrderDate'] = pd.to_datetime(df['OrderDate'], dayfirst=True, errors='coerce')\n",
        "\n"
      ],
      "metadata": {
        "id": "5DUD1maF24Nz"
      },
      "execution_count": 6,
      "outputs": []
    },
    {
      "cell_type": "code",
      "source": [
        "# Handling Incorrect Formats\n",
        "invalid_dates = df[df['OrderDate'].isna()]\n",
        "print(invalid_dates)  # Review the rows with invalid dates\n"
      ],
      "metadata": {
        "colab": {
          "base_uri": "https://localhost:8080/"
        },
        "id": "JK6p2F7R3mqB",
        "outputId": "615b2d31-f1c4-403b-c07f-8303aff0cd13"
      },
      "execution_count": 7,
      "outputs": [
        {
          "output_type": "stream",
          "name": "stdout",
          "text": [
            "       OrderID  Region Country CustID Customer_Name          ProductSKU  \\\n",
            "7466   SO52614  France  France      R       WB-H098  Plant Care & Seeds   \n",
            "46971  SO70321     NaN     NaN    NaN           NaN                 NaN   \n",
            "\n",
            "      Product_Category  OrderLineItem  OrderQuantity  ProductCost  \\\n",
            "7466                 3            2.0         1.8663         4.99   \n",
            "46971              NaN            NaN            NaN          NaN   \n",
            "\n",
            "      ProductPrice OrderDate AcquisitionSource      TransactionID  Fraud  \\\n",
            "7466    16-08-2021       NaT               NaN  E3514276256212068  False   \n",
            "46971          NaN       NaT               NaN                NaN    NaN   \n",
            "\n",
            "      PaymentMethod CardType Gender  \n",
            "7466     CREDITCARD     VISA      M  \n",
            "46971           NaN      NaN    NaN  \n"
          ]
        }
      ]
    },
    {
      "cell_type": "code",
      "source": [
        "df.dropna(subset=['OrderDate'], inplace=True)\n"
      ],
      "metadata": {
        "id": "nvYMAyn037FE"
      },
      "execution_count": 8,
      "outputs": []
    },
    {
      "cell_type": "markdown",
      "source": [
        "# Profitability Calculation"
      ],
      "metadata": {
        "id": "ATTXJrgZ406x"
      }
    },
    {
      "cell_type": "code",
      "source": [
        "import pandas as pd\n",
        "\n",
        "# Assuming your dataframe is loaded into df\n",
        "\n",
        "# 1. Convert 'ProductPrice' and 'ProductCost' to numeric (float), coercing errors\n",
        "df['ProductPrice'] = pd.to_numeric(df['ProductPrice'], errors='coerce')\n",
        "df['ProductCost'] = pd.to_numeric(df['ProductCost'], errors='coerce')\n",
        "\n",
        "# 2. Handle any NaN values that result from non-numeric values (optional)\n",
        "# You can either drop rows with NaN in 'ProductPrice' or 'ProductCost' columns:\n",
        "df.dropna(subset=['ProductPrice', 'ProductCost'], inplace=True)\n",
        "\n",
        "# 3. Calculate Profit for Each Order\n",
        "# Profit = ProductPrice - ProductCost\n",
        "df['Profit'] = df['ProductPrice'] - df['ProductCost']\n",
        "\n",
        "# 4. Group by Campaign (AcquisitionSource) and Customer (CustID)\n",
        "campaign_profit = df.groupby(['AcquisitionSource', 'CustID']).agg(\n",
        "    total_profit_per_user=('Profit', 'sum')\n",
        ").reset_index()\n",
        "\n",
        "# 5. Calculate Per-User Profitability for Each Campaign\n",
        "campaign_profitability = campaign_profit.groupby('AcquisitionSource').agg(\n",
        "    total_profit=('total_profit_per_user', 'sum'),\n",
        "    total_users=('CustID', 'nunique')\n",
        ").reset_index()\n",
        "\n",
        "# 6. Calculate profitability per user\n",
        "campaign_profitability['profitability_per_user'] = campaign_profitability['total_profit'] / campaign_profitability['total_users']\n",
        "\n",
        "# 7. Output the result\n",
        "print(campaign_profitability)\n"
      ],
      "metadata": {
        "colab": {
          "base_uri": "https://localhost:8080/"
        },
        "id": "kYktml3s36Xh",
        "outputId": "1f832aeb-0330-416d-a6e1-a064da8aa821"
      },
      "execution_count": 9,
      "outputs": [
        {
          "output_type": "stream",
          "name": "stdout",
          "text": [
            "  AcquisitionSource  total_profit  total_users  profitability_per_user\n",
            "0      Google-ads\\r  7.201586e+06        16296              441.923544\n",
            "1        Meta-ads\\r  9.303225e+05         4156              223.850448\n",
            "2     Yt-Campaign\\r  8.939341e+05         4167              214.527017\n"
          ]
        }
      ]
    },
    {
      "cell_type": "markdown",
      "source": [
        "# Campaign Comparison"
      ],
      "metadata": {
        "id": "wyRxuhOL6slK"
      }
    },
    {
      "cell_type": "code",
      "source": [
        "import pandas as pd\n",
        "\n",
        "# Assuming your dataframe 'df' is loaded and cleaned\n",
        "\n",
        "# Step 1: Convert 'ProductPrice' and 'ProductCost' to numeric to ensure correct data types\n",
        "# This step ensures we can perform arithmetic operations on these columns\n",
        "df['ProductPrice'] = pd.to_numeric(df['ProductPrice'], errors='coerce')\n",
        "df['ProductCost'] = pd.to_numeric(df['ProductCost'], errors='coerce')\n",
        "\n",
        "# Step 2: Handle any NaN values that result from non-numeric values (optional)\n",
        "# Here, we drop any rows where 'ProductPrice' or 'ProductCost' is NaN\n",
        "df.dropna(subset=['ProductPrice', 'ProductCost'], inplace=True)\n",
        "\n",
        "# Step 3: Calculate Profit for Each Order\n",
        "# Profit = ProductPrice - ProductCost\n",
        "df['Profit'] = df['ProductPrice'] - df['ProductCost']\n",
        "\n",
        "# Step 4: Group by Campaign (AcquisitionSource) and Customer (CustID)\n",
        "# We calculate total profit per user by grouping based on campaign and user\n",
        "campaign_profit = df.groupby(['AcquisitionSource', 'CustID']).agg(\n",
        "    total_profit_per_user=('Profit', 'sum')\n",
        ").reset_index()\n",
        "\n",
        "# Step 5: Calculate Campaign Profitability Metrics\n",
        "# Now group by 'AcquisitionSource' to calculate total profit and total users for each campaign\n",
        "campaign_profitability = campaign_profit.groupby('AcquisitionSource').agg(\n",
        "    total_profit=('total_profit_per_user', 'sum'),  # Total profit from all users for each campaign\n",
        "    total_users=('CustID', 'nunique')  # Count of unique users per campaign\n",
        ").reset_index()\n",
        "\n",
        "# Step 6: Calculate profitability per user for each campaign\n",
        "campaign_profitability['profitability_per_user'] = campaign_profitability['total_profit'] / campaign_profitability['total_users']\n",
        "\n",
        "# Step 7: Compare Campaigns by Sorting based on Profitability per User\n",
        "# We sort by 'profitability_per_user' in descending order to identify the best campaigns\n",
        "campaign_comparison = campaign_profitability.sort_values(by='profitability_per_user', ascending=False)\n",
        "\n",
        "# Step 8: Display the best campaign\n",
        "best_campaign = campaign_comparison.iloc[0]  # First row will have the highest profitability per user\n",
        "\n",
        "print(\"Best Campaign:\")\n",
        "print(best_campaign)\n"
      ],
      "metadata": {
        "colab": {
          "base_uri": "https://localhost:8080/"
        },
        "id": "9i6lZO8W6v3y",
        "outputId": "0193b660-1f55-446c-b4d2-82e36140037c"
      },
      "execution_count": 10,
      "outputs": [
        {
          "output_type": "stream",
          "name": "stdout",
          "text": [
            "Best Campaign:\n",
            "AcquisitionSource         Google-ads\\r\n",
            "total_profit              7201586.0793\n",
            "total_users                      16296\n",
            "profitability_per_user      441.923544\n",
            "Name: 0, dtype: object\n"
          ]
        }
      ]
    },
    {
      "cell_type": "code",
      "source": [
        "# Optional Step: Visualise campaign performance\n",
        "import warnings\n",
        "warnings.filterwarnings(\"ignore\")\n",
        "import matplotlib.pyplot as plt\n",
        "\n",
        "# Create a bar chart for profitability per user for each campaign\n",
        "plt.figure(figsize=(8, 6))\n",
        "plt.bar(campaign_comparison['AcquisitionSource'], campaign_comparison['profitability_per_user'], color='skyblue')\n",
        "plt.xlabel('Campaign (Acquisition Source)')\n",
        "plt.ylabel('Profitability Per User')\n",
        "plt.title('Campaign Comparison: Profitability Per User')\n",
        "plt.xticks(rotation=45, ha='right')\n",
        "plt.tight_layout()\n",
        "plt.show()\n"
      ],
      "metadata": {
        "colab": {
          "base_uri": "https://localhost:8080/",
          "height": 607
        },
        "id": "GS4X-kwB8sMJ",
        "outputId": "a033155f-826c-457f-8dfc-7656a616884a"
      },
      "execution_count": 11,
      "outputs": [
        {
          "output_type": "display_data",
          "data": {
            "text/plain": [
              "<Figure size 800x600 with 1 Axes>"
            ],
            "image/png": "[encoded data removed]"
          },
          "metadata": {}
        }
      ]
    },
    {
      "cell_type": "markdown",
      "source": [
        "# Conversion Rate and CAC Analysis"
      ],
      "metadata": {
        "id": "zEuDJKPg-Gra"
      }
    },
    {
      "cell_type": "code",
      "source": [
        "import pandas as pd\n",
        "\n",
        "# Assuming 'df' is your cleaned dataset and that you have an additional column 'Total_Acquisition_Cost'\n",
        "\n",
        "# Step 1: Mark Successful Transactions (where Fraud is not true/1)\n",
        "df['Successful_Transaction'] = df['Fraud'].apply(lambda x: 1 if x == 0 else 0)\n",
        "\n",
        "# Step 2: Group by 'AcquisitionSource' to Calculate Total Customers and Successful Transactions\n",
        "conversion_data = df.groupby('AcquisitionSource').agg(\n",
        "    total_customers=('CustID', 'nunique'),  # Count of unique customers\n",
        "    successful_transactions=('Successful_Transaction', 'sum')  # Sum of successful transactions (non-fraudulent)\n",
        ").reset_index()"
      ],
      "metadata": {
        "id": "e8JRSNQMn1p2"
      },
      "execution_count": 12,
      "outputs": []
    },
    {
      "cell_type": "code",
      "source": [
        "# # Display informations in AcquisitionSource column\n",
        "# print(df['AcquisitionSource'].unique())"
      ],
      "metadata": {
        "id": "dzv5pf4Zv8iG"
      },
      "execution_count": 20,
      "outputs": []
    },
    {
      "cell_type": "code",
      "source": [
        "# Create a Total_Acquisition_Cost\n",
        "import pandas as pd\n",
        "\n",
        "# Load the dataset from the specified CSV file\n",
        "# df = pd.read_csv('/content/Order_Data_meriskill.csv')\n",
        "\n",
        "# Step 1: Strip whitespace characters from the AcquisitionSource column\n",
        "df['AcquisitionSource'] = df['AcquisitionSource'].str.strip()\n",
        "\n",
        "# Step 2: Check the unique values in the cleaned AcquisitionSource column\n",
        "unique_sources = df['AcquisitionSource'].unique()\n",
        "print(\"Unique Acquisition Sources after stripping whitespace:\")\n",
        "print(unique_sources)\n",
        "\n",
        "# Step 3: Define hypothetical acquisition costs per acquisition source\n",
        "acquisition_costs = {\n",
        "    'Meta-ads': 1000,      # Updated key for Meta-ads\n",
        "    'Google-ads': 1500,    # Updated key for Google-ads\n",
        "    'Yt-Campaign': 2000     # Updated key for Yt-Campaign\n",
        "}\n",
        "\n",
        "# Step 4: Create a new column 'Total_Acquisition_Cost' based on 'AcquisitionSource'\n",
        "df['Total_Acquisition_Cost'] = df['AcquisitionSource'].map(acquisition_costs)\n",
        "\n",
        "# Step 5: Check for NaN values after the update\n",
        "nan_values = df[df['Total_Acquisition_Cost'].isna()]\n",
        "print(\"Rows with NaN Total_Acquisition_Cost:\")\n",
        "print(nan_values)\n",
        "\n",
        "# Display the updated DataFrame to verify the new column\n",
        "print(df.head())\n",
        "\n"
      ],
      "metadata": {
        "colab": {
          "base_uri": "https://localhost:8080/"
        },
        "id": "P8f71rTIt9OI",
        "outputId": "b9342c34-2ff1-47bd-ba45-f5fb9e044182"
      },
      "execution_count": 19,
      "outputs": [
        {
          "output_type": "stream",
          "name": "stdout",
          "text": [
            "Unique Acquisition Sources after stripping whitespace:\n",
            "['Meta-ads' 'Google-ads' 'Yt-Campaign']\n",
            "Rows with NaN Total_Acquisition_Cost:\n",
            "Empty DataFrame\n",
            "Columns: [OrderID, Region, Country, CustID, Customer_Name, ProductSKU, Product_Category, OrderLineItem, OrderQuantity, ProductCost, ProductPrice, OrderDate, AcquisitionSource, TransactionID, Fraud, PaymentMethod, CardType, Gender, Profit, Successful_Transaction, Total_Acquisition_Cost]\n",
            "Index: []\n",
            "\n",
            "[0 rows x 21 columns]\n",
            "   OrderID          Region         Country CustID    Customer_Name  \\\n",
            "0  SO45080       Northwest   United States  14657      JOHN THOMAS   \n",
            "1  SO45079       Southwest   United States  29255  KYLE WASHINGTON   \n",
            "2  SO45082       Australia       Australia  11455        ROSS SANZ   \n",
            "3  SO45081          Canada          Canada  26782       SETH LEWIS   \n",
            "4  SO45083  United Kingdom  United Kingdom  14947   ALEJANDRO CHEN   \n",
            "\n",
            "   ProductSKU Product_Category  OrderLineItem  OrderQuantity  ProductCost  \\\n",
            "0  BK-R50B-58           Plants            1.0            1.0     413.1463   \n",
            "1  BK-R93R-48           Plants            1.0            1.0    2171.2942   \n",
            "2  BK-M82B-44           Plants            1.0            1.0    1898.0944   \n",
            "3  BK-R50B-44           Plants            1.0            1.0     413.1463   \n",
            "4  BK-R93R-48           Plants            1.0            1.0    2171.2942   \n",
            "\n",
            "   ...  OrderDate AcquisitionSource      TransactionID  Fraud PaymentMethod  \\\n",
            "0  ... 2020-01-01          Meta-ads  I4127227587819694  False    CREDITCARD   \n",
            "1  ... 2020-01-01        Google-ads  E9525730529761877  False    CREDITCARD   \n",
            "2  ... 2020-01-01        Google-ads  Z6376643485803420  False    CREDITCARD   \n",
            "3  ... 2020-01-01        Google-ads  R8609290025411138  False    CREDITCARD   \n",
            "4  ... 2020-01-02          Meta-ads  Y9572700698484288  False    CREDITCARD   \n",
            "\n",
            "   CardType Gender     Profit  Successful_Transaction  Total_Acquisition_Cost  \n",
            "0  DISCOVER      M   285.9519                       1                    1000  \n",
            "1        MC      M  1406.9758                       1                    1500  \n",
            "2      VISA      M  1476.8956                       1                    1500  \n",
            "3      VISA      M   285.9519                       1                    1500  \n",
            "4      VISA      M  1406.9758                       1                    1000  \n",
            "\n",
            "[5 rows x 21 columns]\n"
          ]
        }
      ]
    },
    {
      "cell_type": "code",
      "source": [
        "# Step 3: Calculate Conversion Rate for each Acquisition Source\n",
        "conversion_data['conversion_rate'] = (conversion_data['successful_transactions'] / conversion_data['total_customers']) * 100\n",
        "\n",
        "# Step 4: Calculate CAC (Customer Acquisition Cost)\n",
        "# Assuming a 'Total_Acquisition_Cost' column per Acquisition Source exists in the dataset\n",
        "# You need to ensure the 'Total_Acquisition_Cost' is added to the dataset\n",
        "conversion_data['Total_Acquisition_Cost'] = df.groupby('AcquisitionSource')['Total_Acquisition_Cost'].first().values\n",
        "\n",
        "# Calculate CAC by dividing total acquisition cost by the number of converted (successful) customers\n",
        "conversion_data['CAC'] = conversion_data['Total_Acquisition_Cost'] / conversion_data['successful_transactions']\n",
        "\n",
        "# Step 5: Display the final Conversion Rate and CAC data\n",
        "print(conversion_data[['AcquisitionSource', 'conversion_rate', 'CAC']])\n"
      ],
      "metadata": {
        "colab": {
          "base_uri": "https://localhost:8080/"
        },
        "id": "B_w_NTF6ohfX",
        "outputId": "783cec98-c34d-40d9-e4eb-3abcbdaa0440"
      },
      "execution_count": 21,
      "outputs": [
        {
          "output_type": "stream",
          "name": "stdout",
          "text": [
            "  AcquisitionSource  conversion_rate       CAC\n",
            "0      Google-ads\\r       216.114384  0.042592\n",
            "1        Meta-ads\\r       107.507218  0.223814\n",
            "2     Yt-Campaign\\r       108.519318  0.442282\n"
          ]
        }
      ]
    },
    {
      "cell_type": "markdown",
      "source": [
        "# Key Performance Indicators (KPIs)"
      ],
      "metadata": {
        "id": "LyyEYQZn17Bw"
      }
    },
    {
      "cell_type": "code",
      "source": [
        "# Identify KPIs based on the above information\n",
        "\n",
        "# Calculate Total Revenue\n",
        "df['Total_Revenue'] = df['ProductPrice'] * df['OrderQuantity']\n",
        "total_revenue = df['Total_Revenue'].sum()\n",
        "\n",
        "# Calculate Average Order Value (AOV)\n",
        "total_orders = df['OrderID'].nunique()  # Unique Order IDs for total orders\n",
        "average_order_value = total_revenue / total_orders if total_orders > 0 else 0\n",
        "\n",
        "# Calculate Total Cost (Assuming Product Cost is also a relevant cost)\n",
        "df['Total_Product_Cost'] = df['ProductCost'] * df['OrderQuantity']\n",
        "total_product_cost = df['Total_Product_Cost'].sum()\n",
        "\n",
        "# Calculate Total Profit\n",
        "total_acquisition_cost = df['Total_Acquisition_Cost'].sum()\n",
        "total_profit = total_revenue - (total_product_cost + total_acquisition_cost)\n",
        "\n",
        "# Calculate Profit Margin\n",
        "profit_margin = (total_profit / total_revenue) * 100 if total_revenue > 0 else 0\n",
        "\n",
        "# Calculate Customer Acquisition Cost (CAC)\n",
        "# Assuming each AcquisitionSource corresponds to a unique customer\n",
        "new_customers = df['CustID'].nunique()\n",
        "cac = total_acquisition_cost / new_customers if new_customers > 0 else 0\n",
        "\n",
        "# Calculate Conversion Rate\n",
        "# Assuming a conversion happens when an order is placed\n",
        "total_visitors = df['CustID'].nunique()  # Unique customers as visitors\n",
        "conversion_rate = (total_orders / total_visitors) * 100 if total_visitors > 0 else 0\n",
        "\n",
        "# Calculate Click-Through Rate (CTR) (Assuming you have data on impressions and clicks)\n",
        "# For this example, assume you have these columns. If not, adjust accordingly.\n",
        "# df['Clicks'] = [example_click_data]  # Replace with actual click data\n",
        "# df['Impressions'] = [example_impression_data]  # Replace with actual impression data\n",
        "# ctr = (df['Clicks'].sum() / df['Impressions'].sum()) * 100 if df['Impressions'].sum() > 0 else 0\n",
        "\n"
      ],
      "metadata": {
        "id": "bvej4BZw1g28"
      },
      "execution_count": 23,
      "outputs": []
    },
    {
      "cell_type": "code",
      "source": [
        "# Display the calculated KPIs\n",
        "print(f\"Total Revenue: {total_revenue}\")\n",
        "print(f\"Average Order Value (AOV): {average_order_value:.2f}\")\n",
        "print(f\"Total Acquisition Cost: {total_acquisition_cost:.2f}\")\n",
        "print(f\"Total Product Cost: {total_product_cost:.2f}\")\n",
        "print(f\"Total Profit: {total_profit:.2f}\")\n",
        "print(f\"Profit Margin: {profit_margin:.2f}%\")\n",
        "print(f\"Customer Acquisition Cost (CAC): {cac:.2f}\")\n",
        "print(f\"Conversion Rate: {conversion_rate:.2f}%\")\n",
        "# print(f\"Click-Through Rate (CTR): {ctr:.2f}%\")  # Uncomment if you have clicks and impressions data"
      ],
      "metadata": {
        "colab": {
          "base_uri": "https://localhost:8080/"
        },
        "id": "ujBnv81m3f5v",
        "outputId": "73ddf55e-5adf-48e2-8b53-300fbf3b9fcf"
      },
      "execution_count": 24,
      "outputs": [
        {
          "output_type": "stream",
          "name": "stdout",
          "text": [
            "Total Revenue: 21900213.558299996\n",
            "Average Order Value (AOV): 1015.73\n",
            "Total Acquisition Cost: 70468000.00\n",
            "Total Product Cost: 12717028.61\n",
            "Total Profit: -61284815.05\n",
            "Profit Margin: -279.84%\n",
            "Customer Acquisition Cost (CAC): 4042.68\n",
            "Conversion Rate: 123.69%\n"
          ]
        }
      ]
    }
  ]
}