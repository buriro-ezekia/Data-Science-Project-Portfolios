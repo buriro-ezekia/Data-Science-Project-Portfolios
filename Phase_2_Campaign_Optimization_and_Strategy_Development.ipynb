{
  "cells": [
    {
      "cell_type": "markdown",
      "metadata": {
        "id": "view-in-github",
        "colab_type": "text"
      },
      "source": [
        "<a href=\"https://colab.research.google.com/github/buriro-ezekia/Data-Science-Project-Portfolios/blob/main/Phase_2_Campaign_Optimization_and_Strategy_Development.ipynb\" target=\"_parent\"><img src=\"https://colab.research.google.com/assets/colab-badge.svg\" alt=\"Open In Colab\"/></a>"
      ]
    },
    {
      "cell_type": "markdown",
      "metadata": {
        "id": "18Nis5Ajpnai"
      },
      "source": [
        "# Task 4: A/B Testing Framework"
      ]
    },
    {
      "cell_type": "code",
      "execution_count": null,
      "metadata": {
        "colab": {
          "base_uri": "https://localhost:8080/"
        },
        "id": "nnYT0JMspmRm",
        "outputId": "1b75d941-037a-423c-852c-6b9b82883a2f"
      },
      "outputs": [
        {
          "name": "stdout",
          "output_type": "stream",
          "text": [
            "   campaign_id                                  campaign_name  start_date  \\\n",
            "0  470311161.0                         0.54 - May 2022 - Arab  31/08/2020   \n",
            "1  481689442.0                   0.54 - Tier 1 & 2 - May 2022  04/10/2020   \n",
            "2  469927825.0                       0.54 - Tier 1 - May 2022  29/08/2020   \n",
            "3  474269632.0                             1.00 - My Keywords  14/09/2020   \n",
            "4  484006307.0  1.01 - US/OZ - May 2022 - Performing Keywords  12/10/2020   \n",
            "\n",
            "   status                    app_name              ad_placement  \\\n",
            "0  paused  Sleep Habits: Sleep Better  App Store Search Results   \n",
            "1  paused  Sleep Habits: Sleep Better  App Store Search Results   \n",
            "2  paused  Sleep Habits: Sleep Better  App Store Search Results   \n",
            "3  paused  Sleep Habits: Sleep Better  App Store Search Results   \n",
            "4  paused  Sleep Habits: Sleep Better  App Store Search Results   \n",
            "\n",
            "   lifetime_budget  daily_budget   spend  average_cost_per_tap_(cpt)  ...  \\\n",
            "0           5000.0         500.0  103.98                        0.05  ...   \n",
            "1          10000.0         300.0   20.10                        0.09  ...   \n",
            "2           1000.0         300.0  265.51                        0.09  ...   \n",
            "3           5000.0        1000.0  141.22                        0.08  ...   \n",
            "4          10000.0         300.0  195.65                        0.09  ...   \n",
            "\n",
            "   average_cost_per_thousand-impressions_(cpm)  impressions  taps  installs  \\\n",
            "0                                         1.53        68146  1940       664   \n",
            "1                                         2.61         7686   229        42   \n",
            "2                                         1.80       147441  2830       646   \n",
            "3                                         2.56        55186  1776       444   \n",
            "4                                         1.81       108100  2139       472   \n",
            "\n",
            "   the_tap-through_rate_(ttr)  conversion_rate_(cr)  lat_on_installs  \\\n",
            "0                        0.03                  0.34                7   \n",
            "1                        0.03                  0.18                1   \n",
            "2                        0.02                  0.23               85   \n",
            "3                        0.03                  0.25               67   \n",
            "4                        0.02                  0.22               35   \n",
            "\n",
            "   lat_off_installs  new_downloads  redownloads  \n",
            "0               337            658            6  \n",
            "1                 3             42            0  \n",
            "2               313            641            5  \n",
            "3               171            439            5  \n",
            "4               123            470            2  \n",
            "\n",
            "[5 rows x 21 columns]\n"
          ]
        }
      ],
      "source": [
        "# Step-by-Step A/B Testing Framework Implementation\n",
        "# 1. Load and Explore the Data\n",
        "\n",
        "import pandas as pd\n",
        "\n",
        "# Load the dataset\n",
        "df = pd.read_csv('/content/Apple Search Ads Campaigns Cleaned_Dataset.csv')\n",
        "\n",
        "# Display the first few rows to understand the structure\n",
        "print(df.head())\n"
      ]
    },
    {
      "cell_type": "markdown",
      "metadata": {
        "id": "E0P4MQ6TzHSF"
      },
      "source": [
        "# 2. Define Objectives and Hypotheses\n",
        "# **Objective**\n",
        "\n",
        "- Improve key performance metrics (e.g., conversion rate, CPA) by testing different ad variations.\n",
        "\n",
        "**Hypotheses Examples**\n",
        "\n",
        "- Ad copy A with a stronger call-to-action will result in a higher conversion rate than ad copy B.\n",
        "- A budget increase for keyword X will lead to more installs compared to keyword Y."
      ]
    },
    {
      "cell_type": "markdown",
      "metadata": {
        "id": "vCy9JhwF0a_U"
      },
      "source": [
        "# 3. Identify Variables for Testing\n",
        "Select the variables to test. For instance,\n",
        "\n",
        "- Ad Creatives: campaign_name\n",
        "- Targeting Options: impressions, taps, installs, conversion_rate_(cr)\n",
        "- Audience Segments: lat_on_installs, lat_off_installs, new_downloads, redownloads"
      ]
    },
    {
      "cell_type": "markdown",
      "metadata": {
        "id": "fgGi9sSP0_HO"
      },
      "source": [
        "# 4. Create Control and Variation Groups\n",
        "**a. Define Control and Variation Groups**\n",
        "\n",
        "- **Control Group**: Current campaign setup or the baseline version of an ad.\n",
        "- **Variation Group**: New campaign setup or the modified version of an ad"
      ]
    },
    {
      "cell_type": "code",
      "execution_count": null,
      "metadata": {
        "colab": {
          "base_uri": "https://localhost:8080/"
        },
        "id": "WJ1JFibd17AW",
        "outputId": "cb17b6df-d9dd-453a-b43d-c83e8831b7e6"
      },
      "outputs": [
        {
          "name": "stdout",
          "output_type": "stream",
          "text": [
            "                                   campaign_name test_group\n",
            "0                         0.54 - May 2022 - Arab    Control\n",
            "1                   0.54 - Tier 1 & 2 - May 2022  Variation\n",
            "2                       0.54 - Tier 1 - May 2022  Variation\n",
            "3                             1.00 - My Keywords  Variation\n",
            "4  1.01 - US/OZ - May 2022 - Performing Keywords  Variation\n"
          ]
        }
      ],
      "source": [
        "# b. Set Up Test and Control Campaigns in the Dataset\n",
        "\n",
        "# Splitting campaigns for A/B testing\n",
        "# Apply a function to handle NaNs separately\n",
        "df['test_group'] = df['campaign_name'].apply(lambda x: 'NaN' if pd.isna(x) else ('Control' if 'A' in x else 'Variation'))\n",
        "\n",
        "# Display the updated dataset\n",
        "print(df[['campaign_name', 'test_group']].head())\n",
        "\n"
      ]
    },
    {
      "cell_type": "code",
      "execution_count": null,
      "metadata": {
        "colab": {
          "base_uri": "https://localhost:8080/"
        },
        "id": "2GVs_gpc3aIC",
        "outputId": "4510e5f2-1c51-455c-fef8-cd52fd86a07e"
      },
      "outputs": [
        {
          "name": "stdout",
          "output_type": "stream",
          "text": [
            "                                   campaign_name test_group\n",
            "0                         0.54 - May 2022 - Arab    Control\n",
            "1                   0.54 - Tier 1 & 2 - May 2022  Variation\n",
            "2                       0.54 - Tier 1 - May 2022  Variation\n",
            "3                             1.00 - My Keywords  Variation\n",
            "4  1.01 - US/OZ - May 2022 - Performing Keywords  Variation\n"
          ]
        }
      ],
      "source": [
        "# Alternatively\n",
        "# Load the DataFrame from the CSV file\n",
        "# df = pd.read_csv('/content/Apple Search Ads Campaigns Cleaned_Dataset.csv')\n",
        "\n",
        "# Ensure that NaN values in 'campaign_name' are handled and converted to empty strings\n",
        "df['campaign_name'] = df['campaign_name'].fillna('')\n",
        "\n",
        "# Apply the function to split into test groups\n",
        "df['test_group'] = df['campaign_name'].apply(lambda x: 'Control' if 'A' in x else 'Variation')\n",
        "\n",
        "# Display the updated dataset with the 'campaign_name' and 'test_group' columns\n",
        "print(df[['campaign_name', 'test_group']].head())\n"
      ]
    },
    {
      "cell_type": "code",
      "execution_count": null,
      "metadata": {
        "colab": {
          "base_uri": "https://localhost:8080/"
        },
        "id": "luzGsUEg4Mz9",
        "outputId": "a9a6611a-1010-48ff-8e7f-f8aeb3650ceb"
      },
      "outputs": [
        {
          "name": "stdout",
          "output_type": "stream",
          "text": [
            "Required sample size per group: 393.4056989990335\n"
          ]
        }
      ],
      "source": [
        "# 5. Sample Size Calculation\n",
        "# Calculate the required sample size for statistically significant results\n",
        "\n",
        "from statsmodels.stats.power import TTestIndPower\n",
        "\n",
        "# Parameters for sample size calculation\n",
        "effect_size = 0.2  # Small effect size\n",
        "alpha = 0.05  # Significance level\n",
        "power = 0.8  # Power of the test\n",
        "\n",
        "# Calculate the sample size per group\n",
        "analysis = TTestIndPower()\n",
        "sample_size = analysis.solve_power(effect_size, power=power, alpha=alpha)\n",
        "print(f'Required sample size per group: {sample_size}')\n"
      ]
    },
    {
      "cell_type": "code",
      "execution_count": null,
      "metadata": {
        "colab": {
          "base_uri": "https://localhost:8080/"
        },
        "id": "GqEYZGtq4rxY",
        "outputId": "b1bfff08-7cc7-43af-a1b1-ec73dcdb06ee"
      },
      "outputs": [
        {
          "name": "stdout",
          "output_type": "stream",
          "text": [
            "  test_group  impressions   taps  installs    spend  \\\n",
            "0    Control       105351   2675       882   641.08   \n",
            "1  Variation      1012141  23797      5392  2406.45   \n",
            "\n",
            "   average_cost_per_acquisition_(cpa)  \n",
            "0                            2.170000  \n",
            "1                            0.460909  \n"
          ]
        }
      ],
      "source": [
        "# 6. Implement Tracking and Measurement\n",
        "# a. Track Metrics for Each Group\n",
        "\n",
        "# Calculate metrics for each group\n",
        "group_metrics = df.groupby('test_group').agg({\n",
        "    'impressions': 'sum',\n",
        "    'taps': 'sum',\n",
        "    'installs': 'sum',\n",
        "    'spend': 'sum',\n",
        "    'average_cost_per_acquisition_(cpa)': 'mean'\n",
        "}).reset_index()\n",
        "\n",
        "print(group_metrics)\n"
      ]
    },
    {
      "cell_type": "code",
      "execution_count": null,
      "metadata": {
        "colab": {
          "background_save": true
        },
        "id": "MnqZFkCtguDe"
      },
      "outputs": [],
      "source": [
        "# Install the schedule library\n",
        "# !pip install schedule"
      ]
    },
    {
      "cell_type": "code",
      "execution_count": null,
      "metadata": {
        "id": "Q1aTtnBn5nqJ"
      },
      "outputs": [],
      "source": [
        "# b. Set Up Automated Tracking\n",
        "# Automate data extraction and performance tracking\n",
        "import schedule\n",
        "import time\n",
        "\n",
        "def track_performance():\n",
        "    # Example function to extract and log performance data\n",
        "    current_metrics = df.groupby('test_group').agg({\n",
        "        'impressions': 'sum',\n",
        "        'taps': 'sum',\n",
        "        'installs': 'sum',\n",
        "        'spend': 'sum',\n",
        "        'average_cost_per_acquisition_(cpa)': 'mean'\n",
        "    }).reset_index()\n",
        "    print(current_metrics)\n",
        "    # Log or save the current_metrics for future analysis\n",
        "\n",
        "# Schedule the tracking to run daily\n",
        "schedule.every().day.at(\"09:00\").do(track_performance)\n",
        "\n",
        "while True:\n",
        "    schedule.run_pending()\n",
        "    time.sleep(60)  # wait one minute\n"
      ]
    },
    {
      "cell_type": "markdown",
      "source": [
        "# In Progress"
      ],
      "metadata": {
        "id": "7ibK8CbwmN69"
      }
    }
  ],
  "metadata": {
    "colab": {
      "provenance": [],
      "authorship_tag": "ABX9TyOYJsIoHPj0c3gPuSLbxsrN",
      "include_colab_link": true
    },
    "kernelspec": {
      "display_name": "Python 3",
      "name": "python3"
    },
    "language_info": {
      "name": "python"
    }
  },
  "nbformat": 4,
  "nbformat_minor": 0
}